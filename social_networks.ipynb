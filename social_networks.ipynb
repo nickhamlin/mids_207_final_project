{
 "cells": [
  {
   "cell_type": "markdown",
   "metadata": {},
   "source": [
    "# Influencers in Social Networks\n",
    "Albert Byun, Hussein Danish, Nick Hamlin, Vincent Chio, Walter Erquinigo Pezo"
   ]
  },
  {
   "cell_type": "markdown",
   "metadata": {},
   "source": [
    "## Background \n",
    "\n",
    "See https://www.kaggle.com/c/predict-who-is-more-influential-in-a-social-network/data for more info on the problem setup. An example solution is available at https://gist.github.com/fhuszar/5372873"
   ]
  },
  {
   "cell_type": "code",
   "execution_count": 1,
   "metadata": {
    "collapsed": true
   },
   "outputs": [],
   "source": [
    "# This tells matplotlib not to try opening a new window for each plot.\n",
    "%matplotlib inline\n",
    "\n",
    "# General libraries.\n",
    "import numpy as np\n",
    "import pandas as pd\n",
    "import matplotlib.pyplot as plt\n",
    "\n",
    "# SK-learn libraries for learning.\n",
    "from sklearn.pipeline import Pipeline\n",
    "from sklearn.neighbors import KNeighborsClassifier\n",
    "from sklearn.grid_search import GridSearchCV\n",
    "\n",
    "# SK-learn libraries for evaluation.\n",
    "from sklearn.metrics import confusion_matrix\n",
    "from sklearn import metrics\n",
    "from sklearn.metrics import classification_report"
   ]
  },
  {
   "cell_type": "markdown",
   "metadata": {},
   "source": [
    "## Data Ingest"
   ]
  },
  {
   "cell_type": "code",
   "execution_count": 2,
   "metadata": {
    "collapsed": false
   },
   "outputs": [
    {
     "name": "stdout",
     "output_type": "stream",
     "text": [
      "(4583, 22) (917, 22) (5952, 22)\n"
     ]
    }
   ],
   "source": [
    "def load_train_data():\n",
    "    with open('data/train.csv') as f:\n",
    "        features = f.next().rstrip().split(',')[1:]\n",
    "        data = np.loadtxt(f, delimiter=',')\n",
    "        X, Y = data[:,1:], data[:,:1]\n",
    "        return features, X, Y.flatten()\n",
    "\n",
    "def load_test_data():\n",
    "    with open('data/test.csv') as f:\n",
    "        features = f.next().rstrip().split(',')[1:]\n",
    "        return np.loadtxt(f, delimiter=',')\n",
    "\n",
    "def prepare_train_data(X, Y, test_size=1.0/6):\n",
    "    np.random.seed(0)\n",
    "    \n",
    "    shuffle = np.random.permutation(np.arange(X.shape[0]))\n",
    "    X, Y = X[shuffle], Y[shuffle]\n",
    "    break_point = int(X.shape[0] * (1 - test_size))\n",
    "    return X[:break_point], Y[:break_point], X[break_point:], Y[break_point:]\n",
    "    \n",
    "features, X, Y = load_train_data()\n",
    "train_data, train_labels, dev_data, dev_labels = prepare_train_data(X, Y)\n",
    "test_data = load_test_data()\n",
    "\n",
    "print train_data.shape, dev_data.shape, test_data.shape"
   ]
  },
  {
   "cell_type": "markdown",
   "metadata": {},
   "source": [
    "## Train a dumb model"
   ]
  },
  {
   "cell_type": "code",
   "execution_count": 3,
   "metadata": {
    "collapsed": false
   },
   "outputs": [],
   "source": [
    "kn = KNeighborsClassifier(n_neighbors=1)\n",
    "kn.fit(train_data, train_labels)\n",
    "\n",
    "# here's what we need to send back to Kaggle\n",
    "pred_labels = kn.predict(test_data)\n",
    "pred_probs = kn.predict_proba(test_data)"
   ]
  },
  {
   "cell_type": "markdown",
   "metadata": {},
   "source": [
    "## Export Results for Kaggle Submission"
   ]
  },
  {
   "cell_type": "code",
   "execution_count": 4,
   "metadata": {
    "collapsed": false
   },
   "outputs": [],
   "source": [
    "def generate_test_output(pred_probs):\n",
    "    with open(\"test_labeled.csv\", \"w\") as f:\n",
    "        f.write('Id,Choice\\n')\n",
    "        for i,prob in enumerate(pred_probs):\n",
    "            f.write(str(i+1)+','+str(prob[1])+'\\n')\n",
    "\n",
    "generate_test_output(pred_probs)"
   ]
  },
  {
   "cell_type": "code",
   "execution_count": null,
   "metadata": {
    "collapsed": true
   },
   "outputs": [],
   "source": []
  }
 ],
 "metadata": {
  "kernelspec": {
   "display_name": "Python 2",
   "language": "python",
   "name": "python2"
  },
  "language_info": {
   "codemirror_mode": {
    "name": "ipython",
    "version": 2
   },
   "file_extension": ".py",
   "mimetype": "text/x-python",
   "name": "python",
   "nbconvert_exporter": "python",
   "pygments_lexer": "ipython2",
   "version": "2.7.10"
  }
 },
 "nbformat": 4,
 "nbformat_minor": 0
}
