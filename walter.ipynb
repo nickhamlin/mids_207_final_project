{
 "cells": [
  {
   "cell_type": "markdown",
   "metadata": {},
   "source": [
    "# Influencers in Social Networks\n",
    "Albert Byun, Hussein Danish, Nick Hamlin, Vincent Chio, Walter Erquinigo Pezo"
   ]
  },
  {
   "cell_type": "markdown",
   "metadata": {},
   "source": [
    "## Background \n",
    "\n",
    "See https://www.kaggle.com/c/predict-who-is-more-influential-in-a-social-network/data for more info on the problem setup. An example solution is available at https://gist.github.com/fhuszar/5372873"
   ]
  },
  {
   "cell_type": "code",
   "execution_count": 1,
   "metadata": {
    "collapsed": true
   },
   "outputs": [],
   "source": [
    "# This tells matplotlib not to try opening a new window for each plot.\n",
    "%matplotlib inline\n",
    "\n",
    "# General libraries.\n",
    "import numpy as np\n",
    "import pandas as pd\n",
    "import matplotlib.pyplot as plt\n",
    "\n",
    "# SK-learn libraries for learning.\n",
    "from sklearn.pipeline import Pipeline\n",
    "from sklearn.neighbors import KNeighborsClassifier\n",
    "from sklearn.grid_search import GridSearchCV\n",
    "\n",
    "# SK-learn libraries for evaluation.\n",
    "from sklearn.metrics import confusion_matrix\n",
    "from sklearn import metrics\n",
    "from sklearn.metrics import classification_report"
   ]
  },
  {
   "cell_type": "markdown",
   "metadata": {},
   "source": [
    "## Data Ingest"
   ]
  },
  {
   "cell_type": "code",
   "execution_count": 79,
   "metadata": {
    "collapsed": false
   },
   "outputs": [
    {
     "name": "stdout",
     "output_type": "stream",
     "text": [
      "(2750, 22) (2750, 22) (5952, 22)\n"
     ]
    }
   ],
   "source": [
    "def load_train_data():\n",
    "    with open('data/train.csv') as f:\n",
    "        features = f.next().rstrip().split(',')[1:]\n",
    "        data = np.loadtxt(f, delimiter=',')\n",
    "        X, Y = data[:,1:], data[:,:1]\n",
    "        return features, X, Y.flatten()\n",
    "\n",
    "def load_test_data():\n",
    "    with open('data/test.csv') as f:\n",
    "        features = f.next().rstrip().split(',')[1:]\n",
    "        return np.loadtxt(f, delimiter=',')\n",
    "\n",
    "def prepare_train_data(X, Y, test_size=1.0/2):\n",
    "    np.random.seed(0)\n",
    "    \n",
    "    shuffle = np.random.permutation(np.arange(X.shape[0]))\n",
    "    X, Y = X[shuffle], Y[shuffle]\n",
    "    break_point = int(X.shape[0] * (1 - test_size))\n",
    "    return X[:break_point], Y[:break_point], X[break_point:], Y[break_point:]\n",
    "\n",
    "\n",
    "features, X, Y = load_train_data()\n",
    "train_data, train_labels, dev_data, dev_labels = prepare_train_data(X, Y)\n",
    "test_data = load_test_data()\n",
    "\n",
    "train_data = np.array(train_data)\n",
    "dev_data = np.array(train_data)\n",
    "test_data = np.array(test_data)\n",
    "\n",
    "print train_data.shape, dev_data.shape, test_data.shape"
   ]
  },
  {
   "cell_type": "code",
   "execution_count": 43,
   "metadata": {
    "collapsed": false
   },
   "outputs": [],
   "source": [
    "def transform_features(x):\n",
    "    return np.log(1+x)\n",
    "\n",
    "def subtract(x):\n",
    "    return np.array([xx[0:11] - xx[11:] for xx in x])"
   ]
  },
  {
   "cell_type": "markdown",
   "metadata": {},
   "source": [
    "## KNN"
   ]
  },
  {
   "cell_type": "code",
   "execution_count": 80,
   "metadata": {
    "collapsed": false
   },
   "outputs": [
    {
     "name": "stdout",
     "output_type": "stream",
     "text": [
      "0.485090909091\n",
      "0.494181818182\n"
     ]
    }
   ],
   "source": [
    "def knn(x_train, y_train, x_test, y_test):\n",
    "    kn = KNeighborsClassifier(n_neighbors=10)\n",
    "    kn.fit(x_train, y_train)\n",
    "    return kn.score(x_test, y_test)\n",
    "\n",
    "print knn(\n",
    "    subtract(transform_features(dev_data)), \n",
    "    dev_labels, \n",
    "    subtract(transform_features(train_data)),\n",
    "    train_labels)\n",
    "print knn(\n",
    "    subtract(dev_data), \n",
    "    dev_labels, \n",
    "    subtract(train_data),\n",
    "    train_labels)"
   ]
  },
  {
   "cell_type": "code",
   "execution_count": 81,
   "metadata": {
    "collapsed": false
   },
   "outputs": [
    {
     "name": "stdout",
     "output_type": "stream",
     "text": [
      "0.463272727273\n",
      "0.449090909091\n"
     ]
    }
   ],
   "source": [
    "from sklearn import linear_model\n",
    "\n",
    "def logistic(x_train, y_train, x_test, y_test):\n",
    "    clf = logistic = linear_model.LogisticRegression(fit_intercept=False)\n",
    "    clf.fit(x_train, y_train)\n",
    "    return clf.score(x_test, y_test)\n",
    "\n",
    "print logistic(\n",
    "    subtract(transform_features(dev_data)), \n",
    "    dev_labels, \n",
    "    subtract(transform_features(train_data)),\n",
    "    train_labels)\n",
    "print logistic(\n",
    "    subtract(dev_data), \n",
    "    dev_labels, \n",
    "    subtract(train_data),\n",
    "    train_labels)"
   ]
  },
  {
   "cell_type": "markdown",
   "metadata": {},
   "source": [
    "## ISOMAP"
   ]
  },
  {
   "cell_type": "code",
   "execution_count": null,
   "metadata": {
    "collapsed": false
   },
   "outputs": [
    {
     "name": "stdout",
     "output_type": "stream",
     "text": [
      "knn 5 3 0.498909\n",
      "log 5 3 0.504364\n",
      "knn 5 4 0.507273\n",
      "log 5 4 0.497455\n",
      "knn 5 5 0.485455"
     ]
    }
   ],
   "source": [
    "from sklearn import manifold\n",
    "\n",
    "def isomap(n_neighbors, n_components):\n",
    "    isomap = manifold.Isomap(n_neighbors, n_components)\n",
    "    dev_x = isomap.fit_transform(subtract(transform_features(dev_data)))\n",
    "    train_x = isomap.transform(subtract(transform_features(train_data)))\n",
    "    return knn(\n",
    "        dev_x, \n",
    "        dev_labels, \n",
    "        train_x,\n",
    "        train_labels)\n",
    "\n",
    "def isomap2(n_neighbors, n_components):\n",
    "    isomap = manifold.Isomap(n_neighbors, n_components)\n",
    "    dev_x = isomap.fit_transform(subtract(transform_features(dev_data)))\n",
    "    train_x = isomap.transform(subtract(transform_features(train_data)))\n",
    "    return logistic(\n",
    "        dev_x, \n",
    "        dev_labels, \n",
    "        train_x,\n",
    "        train_labels)\n",
    "    \n",
    "for nei in range(5, 10):\n",
    "    for com in range(3, 8):\n",
    "        print \"knn %d %d %f\" % (nei, com, isomap(nei, com))\n",
    "        print \"log %d %d %f\" % (nei, com, isomap2(nei, com))   "
   ]
  },
  {
   "cell_type": "markdown",
   "metadata": {},
   "source": [
    "## Export Results for Kaggle Submission"
   ]
  },
  {
   "cell_type": "code",
   "execution_count": 82,
   "metadata": {
    "collapsed": false
   },
   "outputs": [],
   "source": [
    "def generate_test_output(pred_probs):\n",
    "    with open(\"test_labeled.csv\", \"w\") as f:\n",
    "        f.write('Id,Choice\\n')\n",
    "        for i,prob in enumerate(pred_probs):\n",
    "            f.write(str(i+1)+','+str(prob[1])+'\\n')\n",
    "\n",
    "\n",
    "isomap = manifold.Isomap(10, 6)\n",
    "x = isomap.fit_transform(subtract(transform_features(X)))\n",
    "test_x = isomap.transform(subtract(transform_features(test_data)))\n",
    "\n",
    "kn = KNeighborsClassifier(n_neighbors=10)\n",
    "kn.fit(x, Y)\n",
    "proba = kn.predict_proba(test_x)\n",
    "    \n",
    "generate_test_output(proba)"
   ]
  },
  {
   "cell_type": "code",
   "execution_count": null,
   "metadata": {
    "collapsed": true
   },
   "outputs": [],
   "source": []
  }
 ],
 "metadata": {
  "kernelspec": {
   "display_name": "Python 2",
   "language": "python",
   "name": "python2"
  },
  "language_info": {
   "codemirror_mode": {
    "name": "ipython",
    "version": 2
   },
   "file_extension": ".py",
   "mimetype": "text/x-python",
   "name": "python",
   "nbconvert_exporter": "python",
   "pygments_lexer": "ipython2",
   "version": "2.7.10"
  }
 },
 "nbformat": 4,
 "nbformat_minor": 0
}
