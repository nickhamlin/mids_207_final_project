{
 "cells": [
  {
   "cell_type": "markdown",
   "metadata": {},
   "source": [
    "# Influencers in Social Networks\n",
    "Albert Byun, Hussein Danish, Nick Hamlin, Vincent Chio, Walter Erquinigo Pezo"
   ]
  },
  {
   "cell_type": "markdown",
   "metadata": {},
   "source": [
    "## Background \n",
    "\n",
    "See https://www.kaggle.com/c/predict-who-is-more-influential-in-a-social-network/data for more info on the problem setup. An example solution is available at https://gist.github.com/fhuszar/5372873"
   ]
  },
  {
   "cell_type": "code",
   "execution_count": 108,
   "metadata": {
    "collapsed": true
   },
   "outputs": [],
   "source": [
    "# This tells matplotlib not to try opening a new window for each plot.\n",
    "%matplotlib inline\n",
    "\n",
    "# General libraries.\n",
    "import numpy as np\n",
    "import pandas as pd\n",
    "import matplotlib.pyplot as plt\n",
    "\n",
    "# SK-learn libraries for learning.\n",
    "from sklearn.pipeline import Pipeline\n",
    "from sklearn.neighbors import KNeighborsClassifier\n",
    "from sklearn.grid_search import GridSearchCV\n",
    "\n",
    "# SK-learn libraries for evaluation.\n",
    "from sklearn.metrics import confusion_matrix\n",
    "from sklearn import metrics\n",
    "from sklearn.metrics import classification_report"
   ]
  },
  {
   "cell_type": "markdown",
   "metadata": {},
   "source": [
    "## Data Ingest"
   ]
  },
  {
   "cell_type": "code",
   "execution_count": 109,
   "metadata": {
    "collapsed": false
   },
   "outputs": [
    {
     "name": "stdout",
     "output_type": "stream",
     "text": [
      "(2750, 22) (2750, 22) (5952, 22)\n"
     ]
    }
   ],
   "source": [
    "def load_train_data():\n",
    "    with open('data/train.csv') as f:\n",
    "        features = f.next().rstrip().split(',')[1:]\n",
    "        data = np.loadtxt(f, delimiter=',')\n",
    "        X, Y = data[:,1:], data[:,:1]\n",
    "        return features, X, Y.flatten()\n",
    "\n",
    "def load_test_data():\n",
    "    with open('data/test.csv') as f:\n",
    "        features = f.next().rstrip().split(',')[1:]\n",
    "        return np.loadtxt(f, delimiter=',')\n",
    "\n",
    "def prepare_train_data(X, Y, test_size=1.0/2):\n",
    "    np.random.seed(0)\n",
    "    \n",
    "    shuffle = np.random.permutation(np.arange(X.shape[0]))\n",
    "    X, Y = X[shuffle], Y[shuffle]\n",
    "    break_point = int(X.shape[0] * (1 - test_size))\n",
    "    return X[:break_point], Y[:break_point], X[break_point:], Y[break_point:]\n",
    "\n",
    "\n",
    "features, X, Y = load_train_data()\n",
    "train_data, train_labels, dev_data, dev_labels = prepare_train_data(X, Y)\n",
    "test_data = load_test_data()\n",
    "\n",
    "train_data = np.array(train_data)\n",
    "dev_data = np.array(train_data)\n",
    "test_data = np.array(test_data)\n",
    "\n",
    "print train_data.shape, dev_data.shape, test_data.shape"
   ]
  },
  {
   "cell_type": "code",
   "execution_count": 110,
   "metadata": {
    "collapsed": false
   },
   "outputs": [],
   "source": [
    "def transform_features(x):\n",
    "    return np.log(1+x)\n",
    "\n",
    "def subtract(x):\n",
    "    return np.array([xx[0:11] - xx[11:] for xx in x])"
   ]
  },
  {
   "cell_type": "markdown",
   "metadata": {},
   "source": [
    "## KNN"
   ]
  },
  {
   "cell_type": "code",
   "execution_count": 111,
   "metadata": {
    "collapsed": false
   },
   "outputs": [
    {
     "name": "stdout",
     "output_type": "stream",
     "text": [
      "0.485090909091\n",
      "0.494181818182\n"
     ]
    }
   ],
   "source": [
    "def knn(x_train, y_train, x_test, y_test):\n",
    "    kn = KNeighborsClassifier(n_neighbors=10)\n",
    "    kn.fit(x_train, y_train)\n",
    "    return kn.score(x_test, y_test)\n",
    "\n",
    "print knn(\n",
    "    subtract(transform_features(dev_data)), \n",
    "    dev_labels, \n",
    "    subtract(transform_features(train_data)),\n",
    "    train_labels)\n",
    "print knn(\n",
    "    subtract(dev_data), \n",
    "    dev_labels, \n",
    "    subtract(train_data),\n",
    "    train_labels)"
   ]
  },
  {
   "cell_type": "code",
   "execution_count": 112,
   "metadata": {
    "collapsed": false
   },
   "outputs": [
    {
     "name": "stdout",
     "output_type": "stream",
     "text": [
      "0.463272727273\n",
      "0.450545454545\n"
     ]
    }
   ],
   "source": [
    "from sklearn import linear_model\n",
    "\n",
    "def logistic(x_train, y_train, x_test, y_test):\n",
    "    clf = logistic = linear_model.LogisticRegression(fit_intercept=False)\n",
    "    clf.fit(x_train, y_train)\n",
    "    return clf.score(x_test, y_test)\n",
    "\n",
    "print logistic(\n",
    "    subtract(transform_features(dev_data)), \n",
    "    dev_labels, \n",
    "    subtract(transform_features(train_data)),\n",
    "    train_labels)\n",
    "print logistic(\n",
    "    subtract(dev_data), \n",
    "    dev_labels, \n",
    "    subtract(train_data),\n",
    "    train_labels)"
   ]
  },
  {
   "cell_type": "markdown",
   "metadata": {},
   "source": [
    "## ISOMAP"
   ]
  },
  {
   "cell_type": "code",
   "execution_count": 113,
   "metadata": {
    "collapsed": false
   },
   "outputs": [
    {
     "name": "stdout",
     "output_type": "stream",
     "text": [
      "knn 2 3 0.476364\n",
      "log 2 3 0.452727\n",
      "knn 2 4 0.486909\n",
      "log 2 4 0.498545\n"
     ]
    },
    {
     "ename": "KeyboardInterrupt",
     "evalue": "",
     "output_type": "error",
     "traceback": [
      "\u001b[0;31m---------------------------------------------------------------------------\u001b[0m",
      "\u001b[0;31mKeyboardInterrupt\u001b[0m                         Traceback (most recent call last)",
      "\u001b[0;32m<ipython-input-113-63e85df5ced0>\u001b[0m in \u001b[0;36m<module>\u001b[0;34m()\u001b[0m\n\u001b[1;32m     23\u001b[0m \u001b[0;32mfor\u001b[0m \u001b[0mnei\u001b[0m \u001b[0;32min\u001b[0m \u001b[0mrange\u001b[0m\u001b[0;34m(\u001b[0m\u001b[0;36m2\u001b[0m\u001b[0;34m,\u001b[0m \u001b[0;36m5\u001b[0m\u001b[0;34m)\u001b[0m\u001b[0;34m:\u001b[0m\u001b[0;34m\u001b[0m\u001b[0m\n\u001b[1;32m     24\u001b[0m     \u001b[0;32mfor\u001b[0m \u001b[0mcom\u001b[0m \u001b[0;32min\u001b[0m \u001b[0mrange\u001b[0m\u001b[0;34m(\u001b[0m\u001b[0;36m3\u001b[0m\u001b[0;34m,\u001b[0m \u001b[0;36m8\u001b[0m\u001b[0;34m)\u001b[0m\u001b[0;34m:\u001b[0m\u001b[0;34m\u001b[0m\u001b[0m\n\u001b[0;32m---> 25\u001b[0;31m         \u001b[0;32mprint\u001b[0m \u001b[0;34m\"knn %d %d %f\"\u001b[0m \u001b[0;34m%\u001b[0m \u001b[0;34m(\u001b[0m\u001b[0mnei\u001b[0m\u001b[0;34m,\u001b[0m \u001b[0mcom\u001b[0m\u001b[0;34m,\u001b[0m \u001b[0misomap\u001b[0m\u001b[0;34m(\u001b[0m\u001b[0mnei\u001b[0m\u001b[0;34m,\u001b[0m \u001b[0mcom\u001b[0m\u001b[0;34m)\u001b[0m\u001b[0;34m)\u001b[0m\u001b[0;34m\u001b[0m\u001b[0m\n\u001b[0m\u001b[1;32m     26\u001b[0m         \u001b[0;32mprint\u001b[0m \u001b[0;34m\"log %d %d %f\"\u001b[0m \u001b[0;34m%\u001b[0m \u001b[0;34m(\u001b[0m\u001b[0mnei\u001b[0m\u001b[0;34m,\u001b[0m \u001b[0mcom\u001b[0m\u001b[0;34m,\u001b[0m \u001b[0misomap2\u001b[0m\u001b[0;34m(\u001b[0m\u001b[0mnei\u001b[0m\u001b[0;34m,\u001b[0m \u001b[0mcom\u001b[0m\u001b[0;34m)\u001b[0m\u001b[0;34m)\u001b[0m\u001b[0;34m\u001b[0m\u001b[0m\n",
      "\u001b[0;32m<ipython-input-113-63e85df5ced0>\u001b[0m in \u001b[0;36misomap\u001b[0;34m(n_neighbors, n_components)\u001b[0m\n\u001b[1;32m      3\u001b[0m \u001b[0;32mdef\u001b[0m \u001b[0misomap\u001b[0m\u001b[0;34m(\u001b[0m\u001b[0mn_neighbors\u001b[0m\u001b[0;34m,\u001b[0m \u001b[0mn_components\u001b[0m\u001b[0;34m)\u001b[0m\u001b[0;34m:\u001b[0m\u001b[0;34m\u001b[0m\u001b[0m\n\u001b[1;32m      4\u001b[0m     \u001b[0misomap\u001b[0m \u001b[0;34m=\u001b[0m \u001b[0mmanifold\u001b[0m\u001b[0;34m.\u001b[0m\u001b[0mIsomap\u001b[0m\u001b[0;34m(\u001b[0m\u001b[0mn_neighbors\u001b[0m\u001b[0;34m,\u001b[0m \u001b[0mn_components\u001b[0m\u001b[0;34m)\u001b[0m\u001b[0;34m\u001b[0m\u001b[0m\n\u001b[0;32m----> 5\u001b[0;31m     \u001b[0mdev_x\u001b[0m \u001b[0;34m=\u001b[0m \u001b[0misomap\u001b[0m\u001b[0;34m.\u001b[0m\u001b[0mfit_transform\u001b[0m\u001b[0;34m(\u001b[0m\u001b[0msubtract\u001b[0m\u001b[0;34m(\u001b[0m\u001b[0mtransform_features\u001b[0m\u001b[0;34m(\u001b[0m\u001b[0mdev_data\u001b[0m\u001b[0;34m)\u001b[0m\u001b[0;34m)\u001b[0m\u001b[0;34m)\u001b[0m\u001b[0;34m\u001b[0m\u001b[0m\n\u001b[0m\u001b[1;32m      6\u001b[0m     \u001b[0mtrain_x\u001b[0m \u001b[0;34m=\u001b[0m \u001b[0misomap\u001b[0m\u001b[0;34m.\u001b[0m\u001b[0mtransform\u001b[0m\u001b[0;34m(\u001b[0m\u001b[0msubtract\u001b[0m\u001b[0;34m(\u001b[0m\u001b[0mtransform_features\u001b[0m\u001b[0;34m(\u001b[0m\u001b[0mtrain_data\u001b[0m\u001b[0;34m)\u001b[0m\u001b[0;34m)\u001b[0m\u001b[0;34m)\u001b[0m\u001b[0;34m\u001b[0m\u001b[0m\n\u001b[1;32m      7\u001b[0m     return knn(\n",
      "\u001b[0;32m/Library/Python/2.7/site-packages/sklearn/manifold/isomap.pyc\u001b[0m in \u001b[0;36mfit_transform\u001b[0;34m(self, X, y)\u001b[0m\n\u001b[1;32m    170\u001b[0m         \u001b[0mX_new\u001b[0m\u001b[0;34m:\u001b[0m \u001b[0marray\u001b[0m\u001b[0;34m-\u001b[0m\u001b[0mlike\u001b[0m\u001b[0;34m,\u001b[0m \u001b[0mshape\u001b[0m \u001b[0;34m(\u001b[0m\u001b[0mn_samples\u001b[0m\u001b[0;34m,\u001b[0m \u001b[0mn_components\u001b[0m\u001b[0;34m)\u001b[0m\u001b[0;34m\u001b[0m\u001b[0m\n\u001b[1;32m    171\u001b[0m         \"\"\"\n\u001b[0;32m--> 172\u001b[0;31m         \u001b[0mself\u001b[0m\u001b[0;34m.\u001b[0m\u001b[0m_fit_transform\u001b[0m\u001b[0;34m(\u001b[0m\u001b[0mX\u001b[0m\u001b[0;34m)\u001b[0m\u001b[0;34m\u001b[0m\u001b[0m\n\u001b[0m\u001b[1;32m    173\u001b[0m         \u001b[0;32mreturn\u001b[0m \u001b[0mself\u001b[0m\u001b[0;34m.\u001b[0m\u001b[0membedding_\u001b[0m\u001b[0;34m\u001b[0m\u001b[0m\n\u001b[1;32m    174\u001b[0m \u001b[0;34m\u001b[0m\u001b[0m\n",
      "\u001b[0;32m/Library/Python/2.7/site-packages/sklearn/manifold/isomap.pyc\u001b[0m in \u001b[0;36m_fit_transform\u001b[0;34m(self, X)\u001b[0m\n\u001b[1;32m    110\u001b[0m         self.dist_matrix_ = graph_shortest_path(kng,\n\u001b[1;32m    111\u001b[0m                                                 \u001b[0mmethod\u001b[0m\u001b[0;34m=\u001b[0m\u001b[0mself\u001b[0m\u001b[0;34m.\u001b[0m\u001b[0mpath_method\u001b[0m\u001b[0;34m,\u001b[0m\u001b[0;34m\u001b[0m\u001b[0m\n\u001b[0;32m--> 112\u001b[0;31m                                                 directed=False)\n\u001b[0m\u001b[1;32m    113\u001b[0m         \u001b[0mG\u001b[0m \u001b[0;34m=\u001b[0m \u001b[0mself\u001b[0m\u001b[0;34m.\u001b[0m\u001b[0mdist_matrix_\u001b[0m \u001b[0;34m**\u001b[0m \u001b[0;36m2\u001b[0m\u001b[0;34m\u001b[0m\u001b[0m\n\u001b[1;32m    114\u001b[0m         \u001b[0mG\u001b[0m \u001b[0;34m*=\u001b[0m \u001b[0;34m-\u001b[0m\u001b[0;36m0.5\u001b[0m\u001b[0;34m\u001b[0m\u001b[0m\n",
      "\u001b[0;31mKeyboardInterrupt\u001b[0m: "
     ]
    }
   ],
   "source": [
    "from sklearn import manifold\n",
    "\n",
    "def isomap(n_neighbors, n_components):\n",
    "    isomap = manifold.Isomap(n_neighbors, n_components)\n",
    "    dev_x = isomap.fit_transform(subtract(transform_features(dev_data)))\n",
    "    train_x = isomap.transform(subtract(transform_features(train_data)))\n",
    "    return knn(\n",
    "        dev_x, \n",
    "        dev_labels, \n",
    "        train_x,\n",
    "        train_labels)\n",
    "\n",
    "def isomap2(n_neighbors, n_components):\n",
    "    isomap = manifold.Isomap(n_neighbors, n_components)\n",
    "    dev_x = isomap.fit_transform(subtract(transform_features(dev_data)))\n",
    "    train_x = isomap.transform(subtract(transform_features(train_data)))\n",
    "    return logistic(\n",
    "        dev_x, \n",
    "        dev_labels, \n",
    "        train_x,\n",
    "        train_labels)\n",
    "    \n",
    "for nei in range(2, 5):\n",
    "    for com in range(3, 8):\n",
    "        print \"knn %d %d %f\" % (nei, com, isomap(nei, com))\n",
    "        print \"log %d %d %f\" % (nei, com, isomap2(nei, com))   "
   ]
  },
  {
   "cell_type": "code",
   "execution_count": 115,
   "metadata": {
    "collapsed": false
   },
   "outputs": [
    {
     "name": "stdout",
     "output_type": "stream",
     "text": [
      "knn 2 0.487636\n",
      "log 2 0.413455\n",
      "knn 3 0.476364\n",
      "log 3 0.415273\n",
      "knn 4 0.490545\n",
      "log 4 0.447636\n",
      "knn 5 0.480000\n",
      "log 5 0.426909\n",
      "knn 6 0.485818\n",
      "log 6 0.433818\n",
      "knn 7 0.486909\n",
      "log 7 0.441818\n",
      "knn 8 0.492364\n",
      "log 8 0.442545\n",
      "knn 9 0.490182\n",
      "log 9 0.449818\n"
     ]
    }
   ],
   "source": [
    "from sklearn.decomposition import PCA\n",
    "\n",
    "def pca(n_components):\n",
    "    isomap = PCA(n_components)\n",
    "    dev_x = isomap.fit_transform(subtract(transform_features(dev_data)))\n",
    "    train_x = isomap.transform(subtract(transform_features(train_data)))\n",
    "    return knn(\n",
    "        dev_x, \n",
    "        dev_labels, \n",
    "        train_x,\n",
    "        train_labels)\n",
    "\n",
    "def pca2(n_components):\n",
    "    isomap = PCA(n_components)\n",
    "    dev_x = isomap.fit_transform(subtract(transform_features(dev_data)))\n",
    "    train_x = isomap.transform(subtract(transform_features(train_data)))\n",
    "    return logistic(\n",
    "        dev_x, \n",
    "        dev_labels, \n",
    "        train_x,\n",
    "        train_labels)\n",
    "    \n",
    "for com in range(2, 10):\n",
    "    print \"knn %d %f\" % (com, pca(com))\n",
    "    print \"log %d %f\" % (com, pca2(com)) "
   ]
  },
  {
   "cell_type": "markdown",
   "metadata": {},
   "source": [
    "## Export Results for Kaggle Submission"
   ]
  },
  {
   "cell_type": "code",
   "execution_count": 118,
   "metadata": {
    "collapsed": false
   },
   "outputs": [],
   "source": [
    "def generate_test_output(pred_probs):\n",
    "    with open(\"test_labeled.csv\", \"w\") as f:\n",
    "        f.write('Id,Choice\\n')\n",
    "        for i,prob in enumerate(pred_probs):\n",
    "            f.write(str(i+1)+','+str(prob[1])+'\\n')\n",
    "\n",
    "\n",
    "isomap = manifold.Isomap(4, 7)\n",
    "x = isomap.fit_transform(subtract(transform_features(X)))\n",
    "test_x = isomap.transform(subtract(transform_features(test_data)))\n",
    "\n",
    "clf = logistic = KNeighborsClassifier(n_neighbors=3)\n",
    "clf.fit(x, Y)\n",
    "proba = clf.predict_proba(test_x)\n",
    "    \n",
    "generate_test_output(proba)"
   ]
  },
  {
   "cell_type": "code",
   "execution_count": null,
   "metadata": {
    "collapsed": true
   },
   "outputs": [],
   "source": [
    "#best\n",
    "\n",
    "def generate_test_output(pred_probs):\n",
    "    with open(\"test_labeled.csv\", \"w\") as f:\n",
    "        f.write('Id,Choice\\n')\n",
    "        for i,prob in enumerate(pred_probs):\n",
    "            f.write(str(i+1)+','+str(prob[1])+'\\n')\n",
    "\n",
    "\n",
    "isomap = manifold.Isomap(4, 7)\n",
    "x = isomap.fit_transform(subtract(transform_features(X)))\n",
    "test_x = isomap.transform(subtract(transform_features(test_data)))\n",
    "\n",
    "clf = logistic = linear_model.LogisticRegression(fit_intercept=False)\n",
    "clf.fit(x, Y)\n",
    "proba = clf.predict_proba(test_x)\n",
    "    \n",
    "generate_test_output(proba)"
   ]
  }
 ],
 "metadata": {
  "kernelspec": {
   "display_name": "Python 2",
   "language": "python",
   "name": "python2"
  },
  "language_info": {
   "codemirror_mode": {
    "name": "ipython",
    "version": 2
   },
   "file_extension": ".py",
   "mimetype": "text/x-python",
   "name": "python",
   "nbconvert_exporter": "python",
   "pygments_lexer": "ipython2",
   "version": "2.7.10"
  }
 },
 "nbformat": 4,
 "nbformat_minor": 0
}
